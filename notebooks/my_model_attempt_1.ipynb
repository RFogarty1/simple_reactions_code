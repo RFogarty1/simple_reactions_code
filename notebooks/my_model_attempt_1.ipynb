{
 "cells": [
  {
   "cell_type": "markdown",
   "metadata": {},
   "source": [
    "**Imports**"
   ]
  },
  {
   "cell_type": "code",
   "execution_count": 1,
   "metadata": {},
   "outputs": [],
   "source": [
    "import copy\n",
    "import itertools as it\n",
    "import math\n",
    "\n",
    "import simple_reactions_lib.core.core_classes as coreHelp\n",
    "import simple_reactions_lib.core.core_units as unitHelp\n",
    "import simple_reactions_lib.core.improved_controller as controllerHelp\n",
    "import simple_reactions_lib.core.propagators as propagatorHelp\n",
    "\n",
    "import simple_reactions_lib.standard.drive_reactions as reactDriver\n",
    "import simple_reactions_lib.standard.my_mg_reactions_net_rates as mgReactHelp\n",
    "import simple_reactions_lib.standard.damping_functions as dampHelp\n",
    "\n",
    "import simple_reactions_lib.core.core_units as coreUnitsHelp\n"
   ]
  },
  {
   "cell_type": "markdown",
   "metadata": {},
   "source": [
    "**Configuration variables**"
   ]
  },
  {
   "cell_type": "code",
   "execution_count": 2,
   "metadata": {},
   "outputs": [],
   "source": [
    "\n",
    "#Barriers/Reaction energies taken from Wurger2020\n",
    "VOLMER_BARRIER = 0.66\n",
    "VOLMER_REACTION_ENERGY = -1.37\n",
    "\n",
    "HEYROVSKY_BARRIER = 0.28\n",
    "HEYROVSKY_REACTION_ENERGY = -1.07\n",
    "\n",
    "TAFEL_BARRIER = 1.26\n",
    "TAFEL_REACTION_ENERGY = 0.23\n",
    "\n",
    "# water-assisted dissolution; based on some prelim calcs. I assume the Mg instantly goes from Mg(H2O)2 to Mg(H2O)6\n",
    "WATER_ASSIST_DISSOL_BARRIER = 1.6\n",
    "WATER_ASSIST_DISSOL_REACTION_ENERGY = -2.0 #Just a value i made up. Settting it super low just assumes the reaction never goes in reverse\n",
    "\n",
    "#OH-assisted Dissolution; totally made up by me\n",
    "OH_ASSIST_DISSOL_BARRIER = 1.6\n",
    "OH_ASSIST_DISSOL_REACTION_ENERGY = -2.0 #Again, totally made up\n",
    "\n",
    "#Barrier from references within Jiang2010 (0.53 is actually the given barrier)\n",
    "#The reaction energy is estimated from Wang2017; though setting this such that its forward only is likely\n",
    "#sensible in reality\n",
    "H_DIFFUSION_BARRIER = 0.53\n",
    "H_DIFFUSION_REACTION_ENERGY = 0.15\n",
    "\n",
    "\n",
    "#Enthalpy is estimated using the arguments Taylor uses to get the BARRIER\n",
    "#The barrier is estimate as the enthalpy + water-desorption energy (energy to pull the water into the GP)\n",
    "OH_CATH_DESORP_BARRIER = 0.9 + 0.4\n",
    "OH_CATH_DESORP_REACTION_ENERGY = 0.9\n",
    "\n",
    "\n",
    "#Prefactor simply the (k_b T)/h factor in transition state theory\n",
    "PLANCKS_CONSTANT_EV = 4.135667696e-15\n",
    "PREFACTOR_STD = (coreUnitsHelp.BOLTZ_EV*300) / PLANCKS_CONSTANT_EV\n",
    "SYM_FACTOR_STD = 0.5 #Default arg anyway so....\n",
    "\n",
    "#General reaction conditions\n",
    "START_POTENTIAL = 0\n",
    "PH_VALUE = 7\n",
    "TEMPERATURE = 300\n",
    "\n",
    "#Starting concentrations (assume activity=concentration)\n",
    "H2_FIXED_CONC = 1e-5 #Just a generic low value\n",
    "MG_2PLUS_CONC = 2e-5 #Taylor2016 uses this\n",
    "H_DIFFUSED_CONC = 1e-5 #Just a generic low value; should stop reverse reaction\n"
   ]
  },
  {
   "cell_type": "code",
   "execution_count": 3,
   "metadata": {},
   "outputs": [
    {
     "data": {
      "text/plain": [
       "'6.251e+12'"
      ]
     },
     "execution_count": 3,
     "metadata": {},
     "output_type": "execute_result"
    }
   ],
   "source": [
    "\"{:.5g}\".format(PREFACTOR_STD)"
   ]
  },
  {
   "cell_type": "markdown",
   "metadata": {},
   "source": [
    "**Get H+/OH- concentrations from pH**"
   ]
  },
  {
   "cell_type": "code",
   "execution_count": 4,
   "metadata": {},
   "outputs": [],
   "source": [
    "def _getHPlusAndOHMinusConcsFromPH(pHValue):\n",
    "    hPlusConc = 10**(-1*pHValue)\n",
    "    ohConc = 1e-14 / hPlusConc\n",
    "    return hPlusConc, ohConc\n",
    "\n",
    "\n",
    "protonConc, ohConc = _getHPlusAndOHMinusConcsFromPH(PH_VALUE)"
   ]
  },
  {
   "cell_type": "markdown",
   "metadata": {},
   "source": [
    "**Get starting concentrations**"
   ]
  },
  {
   "cell_type": "code",
   "execution_count": 5,
   "metadata": {},
   "outputs": [],
   "source": [
    "freeMg = coreHelp.ChemSpeciesStd(\"free\"  , 1.0)\n",
    "hAds   = coreHelp.ChemSpeciesStd(\"h_ads\" , 0.0)\n",
    "ohAds  = coreHelp.ChemSpeciesStd(\"oh_ads\", 0.0)\n",
    "fixedMgTwoPlus = coreHelp.ChemSpeciesStd(\"mg2+\", MG_2PLUS_CONC)\n",
    "fixedH2 = coreHelp.ChemSpeciesStd(\"h2\",H2_FIXED_CONC)\n",
    "fixedHDiffused = coreHelp.ChemSpeciesStd(\"h_diffused\",H_DIFFUSED_CONC)\n",
    "fixedProton = coreHelp.ChemSpeciesStd(\"h+\",protonConc)\n",
    "fixedOH = coreHelp.ChemSpeciesStd(\"oh-\",ohConc)\n",
    "\n",
    "startReactants = [freeMg, hAds, ohAds, fixedMgTwoPlus, fixedProton, fixedOH, fixedH2, fixedHDiffused]\n",
    "# fixedConcReactants = [fixedMgTwoPlus, fixedProton, fixedOH, fixedH2, fixedHDiffused]\n",
    "variableConcReactants = [freeMg, hAds, ohAds]\n",
    "variableConcReactants = [\"free\", \"h_ads\", \"oh_ads\"]"
   ]
  },
  {
   "cell_type": "markdown",
   "metadata": {},
   "source": [
    "**Setup all the reactions**"
   ]
  },
  {
   "cell_type": "code",
   "execution_count": 6,
   "metadata": {},
   "outputs": [],
   "source": [
    "TAFEL_REACTION = mgReactHelp.TafelReactionNet(TAFEL_BARRIER, PREFACTOR_STD, TAFEL_REACTION_ENERGY)\n",
    "\n",
    "HEYROV_REACTION = mgReactHelp.Heyrovsky_waterAssistedNet(HEYROVSKY_BARRIER, PREFACTOR_STD,\n",
    "                                                         HEYROVSKY_REACTION_ENERGY, symFactorForward=SYM_FACTOR_STD)\n",
    "\n",
    "VOLMER_REACTION = mgReactHelp.VolmerReactionNet(VOLMER_BARRIER, PREFACTOR_STD, VOLMER_REACTION_ENERGY)\n",
    "\n",
    "H_DIFFUSE_REACTION = mgReactHelp.HydrogenBulkDiffusionNet(H_DIFFUSION_BARRIER, PREFACTOR_STD, H_DIFFUSION_REACTION_ENERGY)\n",
    "\n",
    "OH_ASSIST_DISSOL = mgReactHelp.OHAssistedDissolutionReaction_twoElectronXferNet(OH_ASSIST_DISSOL_BARRIER, PREFACTOR_STD,\n",
    "                                                             OH_ASSIST_DISSOL_REACTION_ENERGY,\n",
    "                                                             symFactorForward=SYM_FACTOR_STD)\n",
    "\n",
    "WATER_ASSIST_DISSOL = mgReactHelp.WaterAssistReaction_twoElectronXferNet(WATER_ASSIST_DISSOL_BARRIER, PREFACTOR_STD,\n",
    "                                                                        WATER_ASSIST_DISSOL_REACTION_ENERGY,\n",
    "                                                                        symFactorForward=SYM_FACTOR_STD)\n",
    "\n",
    "OH_DESORPT = mgReactHelp.CathodicOHDesorption(OH_CATH_DESORP_BARRIER, PREFACTOR_STD, OH_CATH_DESORP_REACTION_ENERGY,\n",
    "                                              symFactorForward=SYM_FACTOR_STD)\n",
    "\n"
   ]
  },
  {
   "cell_type": "code",
   "execution_count": 7,
   "metadata": {},
   "outputs": [],
   "source": [
    "REACTIONS = [TAFEL_REACTION, HEYROV_REACTION, VOLMER_REACTION,\n",
    "             OH_ASSIST_DISSOL, WATER_ASSIST_DISSOL, H_DIFFUSE_REACTION, OH_DESORPT]\n",
    "\n"
   ]
  },
  {
   "cell_type": "code",
   "execution_count": 8,
   "metadata": {},
   "outputs": [],
   "source": [
    "dampHelp.TanhMinConcentrationDampingFunctStandard?"
   ]
  },
  {
   "cell_type": "markdown",
   "metadata": {},
   "source": [
    "**Create the propagtor**"
   ]
  },
  {
   "cell_type": "code",
   "execution_count": 9,
   "metadata": {},
   "outputs": [],
   "source": [
    "#Note that Euler/Runge-Kutta are generally pretty unstable when volmer/heyrovsky are mixed\n",
    "ratesCalculator = controllerHelp.RateCalculatorStandard(REACTIONS)\n",
    "concChangesFinder = controllerHelp.ConcChangesFinderStandard(ratesCalculator, variableConcReactants, maxConcChange=0.1)\n",
    "propagator = controllerHelp.ConcsPropagatorStandard(concChangesFinder)\n",
    "propagator = propagatorHelp.ConcsPropagator_DOP853(ratesCalculator, variableConcReactants, aTol=1e-2, rTol=0.1)\n",
    "propagator = propagatorHelp.ConcsPropagator_Radau(ratesCalculator, variableConcReactants)\n",
    "\n"
   ]
  },
  {
   "cell_type": "markdown",
   "metadata": {},
   "source": [
    "**Create the reaction controller**"
   ]
  },
  {
   "cell_type": "code",
   "execution_count": 10,
   "metadata": {},
   "outputs": [],
   "source": [
    "CONTROLLER = controllerHelp.ReactionControllerImproved(propagator, startReactants,\n",
    "                                                       temperature=TEMPERATURE, potential=START_POTENTIAL)"
   ]
  },
  {
   "cell_type": "code",
   "execution_count": 11,
   "metadata": {},
   "outputs": [],
   "source": [
    "CONTROLLER.reset()\n",
    "stepSize = 0.01\n",
    "nSteps = 5000\n",
    "nSteps = 150\n",
    "outData = list()\n",
    "currTime = 0\n",
    "\n",
    "def _getReactantConcsFromController(controller):\n",
    "    species = [\"free\", \"h_ads\", \"oh_ads\"]\n",
    "    outConcs = list()\n",
    "    for specie in species:\n",
    "        currConc = [x.conc for x in controller.currentReactants if x.name==specie][0]\n",
    "        outConcs.append(currConc)\n",
    "    return outConcs\n",
    "\n",
    "def _printReactantRatesFromController(controller):\n",
    "    species = [\"free\", \"h_ads\", \"oh_ads\"]\n",
    "    rateDict = ratesCalculator.getRates(CONTROLLER.currentReactants, temperature=CONTROLLER.temperature, potential=CONTROLLER.potential)\n",
    "    [print(key,val) for key,val in sorted(rateDict.items()) if key in species]\n",
    "\n",
    "\n",
    "#ODD BEHAVIOR: This becomes super slow as we appraoch the steady state; thats ~ the opposite to what i'd expect\n",
    "\n",
    "outData =  [ [currTime] + _getReactantConcsFromController(CONTROLLER) ]\n",
    "for n in range(nSteps):\n",
    "    CONTROLLER.moveForwardByT(stepSize)\n",
    "    currTime += stepSize\n",
    "    currData = [ [currTime] + _getReactantConcsFromController(CONTROLLER) ]\n",
    "    outData.extend(currData)\n"
   ]
  },
  {
   "cell_type": "code",
   "execution_count": 12,
   "metadata": {},
   "outputs": [
    {
     "data": {
      "text/plain": [
       "['ChemSpeciesStd: free conc=0.0117',\n",
       " 'ChemSpeciesStd: h_ads conc=2.51e-09',\n",
       " 'ChemSpeciesStd: oh_ads conc=0.988',\n",
       " 'ChemSpeciesStd: mg2+ conc=2e-05',\n",
       " 'ChemSpeciesStd: h+ conc=1e-07',\n",
       " 'ChemSpeciesStd: oh- conc=1e-07',\n",
       " 'ChemSpeciesStd: h2 conc=1e-05',\n",
       " 'ChemSpeciesStd: h_diffused conc=1e-05']"
      ]
     },
     "execution_count": 12,
     "metadata": {},
     "output_type": "execute_result"
    }
   ],
   "source": [
    "[str(x) for x in CONTROLLER.currentReactants]"
   ]
  },
  {
   "cell_type": "markdown",
   "metadata": {},
   "source": [
    "**Look at convergence for the simple case**"
   ]
  },
  {
   "cell_type": "code",
   "execution_count": 13,
   "metadata": {},
   "outputs": [],
   "source": [
    "import gen_basis_helpers.shared.data_plot_base as dPlotHelp\n",
    "currKwargs = {\"xlabel\": \"Time\", \"ylabel\": \"Activity\", \"lineMarkers\":[\"x\"]}\n",
    "timeVsConcsPlotter = dPlotHelp.DataPlotterStandard(**currKwargs)"
   ]
  },
  {
   "cell_type": "code",
   "execution_count": 14,
   "metadata": {},
   "outputs": [],
   "source": [
    "plotData = list()\n",
    "nReactants = len(outData[0][1:])\n",
    "for idx in range(1, nReactants+1):\n",
    "    currSeries = [ [x[0],x[idx]] for x in outData]\n",
    "    plotData.append(currSeries)"
   ]
  },
  {
   "cell_type": "code",
   "execution_count": 15,
   "metadata": {},
   "outputs": [
    {
     "data": {
      "text/plain": [
       "[0.6611492387454136, 3.1880810591427073e-07, 0.3388504424459676]"
      ]
     },
     "execution_count": 15,
     "metadata": {},
     "output_type": "execute_result"
    }
   ],
   "source": [
    "outData[1][1:]"
   ]
  },
  {
   "cell_type": "code",
   "execution_count": 16,
   "metadata": {},
   "outputs": [
    {
     "data": {
      "image/png": "[encoded data removed]",
      "text/plain": [
       "<Figure size 432x288 with 1 Axes>"
      ]
     },
     "metadata": {
      "needs_background": "light"
     },
     "output_type": "display_data"
    }
   ],
   "source": [
    "currPlot = timeVsConcsPlotter.createPlot(plotData, dataLabels=variableConcReactants, legend=True)"
   ]
  },
  {
   "cell_type": "code",
   "execution_count": 17,
   "metadata": {},
   "outputs": [
    {
     "data": {
      "text/plain": [
       "[['h_ads', -1.8373641497149151e-09],\n",
       " ['free', -0.008451798920378964],\n",
       " ['oh_ads', 0.008451800757743148]]"
      ]
     },
     "execution_count": 17,
     "metadata": {},
     "output_type": "execute_result"
    }
   ],
   "source": [
    "finalRates = ratesCalculator.getRates(CONTROLLER.currentReactants)\n",
    "convParams = [ [key, finalRates[key]] for key  in finalRates.keys() if key in variableConcReactants]\n",
    "convParams"
   ]
  },
  {
   "cell_type": "markdown",
   "metadata": {},
   "source": [
    "**Look at surface species as a function of potential (fixed pH)**"
   ]
  },
  {
   "cell_type": "code",
   "execution_count": 18,
   "metadata": {},
   "outputs": [],
   "source": [
    "timeStep = 200 #Just need to pick a value we'll ~ defo converge at\n",
    "potentials = [-1.5,-1.0, -0.5, 0.0, 0.5, 1.0,1.5]\n"
   ]
  },
  {
   "cell_type": "code",
   "execution_count": 19,
   "metadata": {},
   "outputs": [],
   "source": [
    "\n",
    "\n",
    "hAdsConcs, ohAdsConcs, freeAdsConcs = list(), list(), list()\n",
    "allRates = list()\n",
    "initReactants = copy.deepcopy(startReactants)\n",
    "for pot in potentials:\n",
    "    #Propagate to really far in the future\n",
    "    CONTROLLER.reset()\n",
    "    CONTROLLER.potential = pot\n",
    "    CONTROLLER.moveForwardByT(timeStep)\n",
    "    \n",
    "    #Get rough values of \n",
    "    free, h_ads, oh_ads = _getReactantConcsFromController(CONTROLLER)\n",
    "    currRates = ratesCalculator.getRates(CONTROLLER.currentReactants, temperature=CONTROLLER.temperature, potential=CONTROLLER.potential)\n",
    "    allRates.append(currRates)\n",
    "    hAdsConcs.append(h_ads)\n",
    "    ohAdsConcs.append(oh_ads)\n",
    "    freeAdsConcs.append(free)\n",
    "    \n",
    "    \n"
   ]
  },
  {
   "cell_type": "markdown",
   "metadata": {},
   "source": [
    "**Plot the expected surface coverage vs potential (pH being fixed)**"
   ]
  },
  {
   "cell_type": "code",
   "execution_count": 20,
   "metadata": {},
   "outputs": [],
   "source": [
    "import gen_basis_helpers.shared.data_plot_base as dPlotHelp"
   ]
  },
  {
   "cell_type": "code",
   "execution_count": 21,
   "metadata": {},
   "outputs": [],
   "source": [
    "\n",
    "plotData = list()\n",
    "dataLabels = [\"free\", \"h_ads\", \"oh_ads\"]\n",
    "dataVals = [freeAdsConcs, hAdsConcs, ohAdsConcs]\n",
    "\n",
    "for data in dataVals:\n",
    "    currPlotData = list()\n",
    "    for pot,conc in it.zip_longest(potentials,data):\n",
    "        currPlotData.append(  [pot,conc] )\n",
    "    plotData.append(currPlotData)\n",
    "\n",
    "\n",
    "\n",
    "\n"
   ]
  },
  {
   "cell_type": "code",
   "execution_count": 22,
   "metadata": {},
   "outputs": [
    {
     "data": {
      "text/plain": [
       "{'axHandle',\n",
       " 'data',\n",
       " 'dataLabels',\n",
       " 'fontSizeAll',\n",
       " 'legend',\n",
       " 'lineColors',\n",
       " 'lineMarkerSizes',\n",
       " 'lineMarkers',\n",
       " 'lineStyles',\n",
       " 'mapPlotDataFunct',\n",
       " 'plotFunct',\n",
       " 'removeXTicks',\n",
       " 'removeYTicks',\n",
       " 'show',\n",
       " 'showTitle',\n",
       " 'titleStr',\n",
       " 'xLim',\n",
       " 'xTickLabelRotation',\n",
       " 'xTickLabels',\n",
       " 'xTickValues',\n",
       " 'xlabel',\n",
       " 'yLim',\n",
       " 'ylabel'}"
      ]
     },
     "execution_count": 22,
     "metadata": {},
     "output_type": "execute_result"
    }
   ],
   "source": [
    "currKwargs = {\"legend\":True, \"lineMarkers\":[\"x\"], \"xlabel\":\"Potential (Vs PZC)\", \"ylabel\":\"Concentration\"}\n",
    "currPlotter = dPlotHelp.DataPlotterStandard(**currKwargs)\n",
    "currPlotter.registeredKwargs"
   ]
  },
  {
   "cell_type": "code",
   "execution_count": 23,
   "metadata": {},
   "outputs": [
    {
     "data": {
      "image/png": "[encoded data removed]",
      "text/plain": [
       "<Figure size 432x288 with 1 Axes>"
      ]
     },
     "metadata": {
      "needs_background": "light"
     },
     "output_type": "display_data"
    }
   ],
   "source": [
    "currPlot = currPlotter.createPlot(plotData, dataLabels=dataLabels)"
   ]
  },
  {
   "cell_type": "markdown",
   "metadata": {},
   "source": [
    "**Plot the rates of change for the surface species; this is a convergence check**"
   ]
  },
  {
   "cell_type": "code",
   "execution_count": 24,
   "metadata": {},
   "outputs": [
    {
     "data": {
      "image/png": "[encoded data removed]",
      "text/plain": [
       "<Figure size 432x288 with 1 Axes>"
      ]
     },
     "metadata": {
      "needs_background": "light"
     },
     "output_type": "display_data"
    }
   ],
   "source": [
    "def _getRatesPlotDataForSpecies(inpSpecies, potentials, allRates):\n",
    "    plotData = list()\n",
    "    for spec in inpSpecies:\n",
    "        currData = _getRatesPlotDataForSingleSpecies(spec, potentials, allRates)\n",
    "        plotData.append(currData)\n",
    "    return plotData\n",
    "\n",
    "\n",
    "def _getRatesPlotDataForSingleSpecies(specie, potentials, allRates):\n",
    "    outData = list()\n",
    "    for pot,rates in it.zip_longest(potentials, allRates):\n",
    "        currRate = rates[specie]\n",
    "        outData.append( [pot,currRate]  )\n",
    "    return outData\n",
    "\n",
    "plotData = list()\n",
    "\n",
    "#Input\n",
    "inpSpecies = [\"free\", \"h_ads\", \"oh_ads\"]\n",
    "potentials = potentials\n",
    "allRates = allRates\n",
    "\n",
    "#Function\n",
    "plotData = list()\n",
    "rateData = _getRatesPlotDataForSpecies(inpSpecies, potentials, allRates) \n",
    "\n",
    "currPlot = currPlotter.createPlot(rateData, dataLabels=inpSpecies, ylabel=\"Rate of change\")"
   ]
  },
  {
   "cell_type": "markdown",
   "metadata": {},
   "source": [
    "**Plot some steady-state rates vs potential**"
   ]
  },
  {
   "cell_type": "code",
   "execution_count": 25,
   "metadata": {},
   "outputs": [
    {
     "data": {
      "image/png": "[encoded data removed]",
      "text/plain": [
       "<Figure size 432x288 with 1 Axes>"
      ]
     },
     "metadata": {
      "needs_background": "light"
     },
     "output_type": "display_data"
    }
   ],
   "source": [
    "inpSpecies = [\"mg2+\", \"h2\", \"h_diffused\", \"oh-\"]\n",
    "rateData = _getRatesPlotDataForSpecies(inpSpecies, potentials, allRates)\n",
    "currPlot = currPlotter.createPlot(rateData, dataLabels=inpSpecies, ylabel=\"Rate of change\")"
   ]
  },
  {
   "cell_type": "code",
   "execution_count": 26,
   "metadata": {},
   "outputs": [
    {
     "data": {
      "image/png": "[encoded data removed]",
      "text/plain": [
       "<Figure size 432x288 with 1 Axes>"
      ]
     },
     "metadata": {
      "needs_background": "light"
     },
     "output_type": "display_data"
    }
   ],
   "source": [
    "currPlot = currPlotter.createPlot(rateData, dataLabels=inpSpecies, ylabel=\"Rate of change\", yLim=[-1e2,2e2])"
   ]
  },
  {
   "cell_type": "code",
   "execution_count": null,
   "metadata": {},
   "outputs": [],
   "source": []
  },
  {
   "cell_type": "code",
   "execution_count": null,
   "metadata": {},
   "outputs": [],
   "source": []
  },
  {
   "cell_type": "code",
   "execution_count": null,
   "metadata": {},
   "outputs": [],
   "source": []
  },
  {
   "cell_type": "code",
   "execution_count": null,
   "metadata": {},
   "outputs": [],
   "source": []
  },
  {
   "cell_type": "code",
   "execution_count": null,
   "metadata": {},
   "outputs": [],
   "source": []
  },
  {
   "cell_type": "code",
   "execution_count": null,
   "metadata": {},
   "outputs": [],
   "source": []
  },
  {
   "cell_type": "code",
   "execution_count": null,
   "metadata": {},
   "outputs": [],
   "source": []
  },
  {
   "cell_type": "code",
   "execution_count": null,
   "metadata": {},
   "outputs": [],
   "source": []
  },
  {
   "cell_type": "code",
   "execution_count": null,
   "metadata": {},
   "outputs": [],
   "source": []
  }
 ],
 "metadata": {
  "kernelspec": {
   "display_name": "Python 3",
   "language": "python",
   "name": "python3"
  },
  "language_info": {
   "codemirror_mode": {
    "name": "ipython",
    "version": 3
   },
   "file_extension": ".py",
   "mimetype": "text/x-python",
   "name": "python",
   "nbconvert_exporter": "python",
   "pygments_lexer": "ipython3",
   "version": "3.8.5"
  }
 },
 "nbformat": 4,
 "nbformat_minor": 4
}
